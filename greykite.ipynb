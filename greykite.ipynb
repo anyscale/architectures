{
 "cells": [
  {
   "cell_type": "code",
   "execution_count": 1,
   "id": "e76fed7b",
   "metadata": {},
   "outputs": [
    {
     "name": "stderr",
     "output_type": "stream",
     "text": [
      "Downloading...\n",
      "From: https://drive.google.com/uc?id=1gk_2xnpTG9YaOWIsYBgt8fdovtl7LiXA\n",
      "To: /Users/cgreer/Downloads/new-data.csv\n",
      "100%|█████████████████████████████████████████████| 288M/288M [01:14<00:00, 3.88MB/s]\n"
     ]
    },
    {
     "data": {
      "text/plain": [
       "'new-data.csv'"
      ]
     },
     "execution_count": 1,
     "metadata": {},
     "output_type": "execute_result"
    }
   ],
   "source": [
    "import gdown \n",
    "url = 'https://drive.google.com/uc?id=1gk_2xnpTG9YaOWIsYBgt8fdovtl7LiXA' \n",
    "output = 'new-data.csv' \n",
    "#gdown.download(url, output, quiet=False)"
   ]
  },
  {
   "cell_type": "code",
   "execution_count": 1,
   "id": "229f1c67",
   "metadata": {},
   "outputs": [],
   "source": [
    "import pandas as pd\n",
    "df = pd.read_csv('/Users/cgreer/Downloads/new-data.csv')"
   ]
  },
  {
   "cell_type": "code",
   "execution_count": 2,
   "id": "f45817a5",
   "metadata": {},
   "outputs": [],
   "source": [
    "df['date'] = df['date'].astype('datetime64[ns]')"
   ]
  },
  {
   "cell_type": "code",
   "execution_count": 3,
   "id": "27d3a9f3",
   "metadata": {},
   "outputs": [],
   "source": [
    "groups = df.groupby(['store','sku'])\n",
    "keys = []\n",
    "data = []\n",
    "for key,item in groups:\n",
    "    keys.append(key)\n",
    "    data.append(item)"
   ]
  },
  {
   "cell_type": "code",
   "execution_count": 4,
   "id": "f09fe738",
   "metadata": {},
   "outputs": [],
   "source": [
    "#%load_ext autotime"
   ]
  },
  {
   "cell_type": "code",
   "execution_count": 5,
   "id": "ef1c7518",
   "metadata": {},
   "outputs": [],
   "source": [
    "from collections import defaultdict\n",
    "import warnings\n",
    "import pandas as pd\n",
    "warnings.filterwarnings(\"ignore\")\n",
    "import pandas as pd\n",
    "import plotly\n",
    "from greykite.framework.templates.autogen.forecast_config import ForecastConfig\n",
    "from greykite.framework.templates.autogen.forecast_config import MetadataParam\n",
    "from greykite.framework.templates.forecaster import Forecaster \n",
    "from greykite.framework.templates.model_templates import ModelTemplateEnum\n",
    "from greykite.framework.utils.result_summary import summarize_grid_search_results"
   ]
  },
  {
   "cell_type": "code",
   "execution_count": 6,
   "id": "2c4226f7",
   "metadata": {},
   "outputs": [
    {
     "name": "stderr",
     "output_type": "stream",
     "text": [
      "\u001b[2m\u001b[36m(pid=46022)\u001b[0m /Users/cgreer/miniconda3/envs/koch2/lib/python3.8/site-packages/greykite/framework/pipeline/pipeline.py:200: UserWarning:\n",
      "\u001b[2m\u001b[36m(pid=46022)\u001b[0m \n",
      "\u001b[2m\u001b[36m(pid=46022)\u001b[0m test_horizon should be <= than 1/3 of the data set size to allow enough data to train a backtest model. Consider reducing to 278. If this is smaller than the forecast_horizon, you will need to make a trade-off between setting test_horizon=forecast_horizon and having enough data left over to properly train a realistic backtest model.\n",
      "\u001b[2m\u001b[36m(pid=46022)\u001b[0m \n",
      "\u001b[2m\u001b[36m(pid=46028)\u001b[0m /Users/cgreer/miniconda3/envs/koch2/lib/python3.8/site-packages/greykite/framework/pipeline/pipeline.py:200: UserWarning:\n",
      "\u001b[2m\u001b[36m(pid=46028)\u001b[0m \n",
      "\u001b[2m\u001b[36m(pid=46028)\u001b[0m test_horizon should be <= than 1/3 of the data set size to allow enough data to train a backtest model. Consider reducing to 278. If this is smaller than the forecast_horizon, you will need to make a trade-off between setting test_horizon=forecast_horizon and having enough data left over to properly train a realistic backtest model.\n",
      "\u001b[2m\u001b[36m(pid=46028)\u001b[0m \n",
      "\u001b[2m\u001b[36m(pid=46029)\u001b[0m /Users/cgreer/miniconda3/envs/koch2/lib/python3.8/site-packages/greykite/framework/pipeline/pipeline.py:200: UserWarning:\n",
      "\u001b[2m\u001b[36m(pid=46029)\u001b[0m \n",
      "\u001b[2m\u001b[36m(pid=46029)\u001b[0m test_horizon should be <= than 1/3 of the data set size to allow enough data to train a backtest model. Consider reducing to 278. If this is smaller than the forecast_horizon, you will need to make a trade-off between setting test_horizon=forecast_horizon and having enough data left over to properly train a realistic backtest model.\n",
      "\u001b[2m\u001b[36m(pid=46029)\u001b[0m \n",
      "\u001b[2m\u001b[36m(pid=46026)\u001b[0m /Users/cgreer/miniconda3/envs/koch2/lib/python3.8/site-packages/greykite/framework/pipeline/pipeline.py:200: UserWarning:\n",
      "\u001b[2m\u001b[36m(pid=46026)\u001b[0m \n",
      "\u001b[2m\u001b[36m(pid=46026)\u001b[0m test_horizon should be <= than 1/3 of the data set size to allow enough data to train a backtest model. Consider reducing to 278. If this is smaller than the forecast_horizon, you will need to make a trade-off between setting test_horizon=forecast_horizon and having enough data left over to properly train a realistic backtest model.\n",
      "\u001b[2m\u001b[36m(pid=46026)\u001b[0m \n",
      "\u001b[2m\u001b[36m(pid=46022)\u001b[0m /Users/cgreer/miniconda3/envs/koch2/lib/python3.8/site-packages/greykite/sklearn/cross_validation.py:191: UserWarning:\n",
      "\u001b[2m\u001b[36m(pid=46022)\u001b[0m \n",
      "\u001b[2m\u001b[36m(pid=46022)\u001b[0m There are no CV splits under the requested settings. Decrease `forecast_horizon` and/or `min_train_periods`. Using default 90/10 CV split\n",
      "\u001b[2m\u001b[36m(pid=46022)\u001b[0m \n",
      "\u001b[2m\u001b[36m(pid=46028)\u001b[0m /Users/cgreer/miniconda3/envs/koch2/lib/python3.8/site-packages/greykite/sklearn/cross_validation.py:191: UserWarning:\n",
      "\u001b[2m\u001b[36m(pid=46028)\u001b[0m \n",
      "\u001b[2m\u001b[36m(pid=46028)\u001b[0m There are no CV splits under the requested settings. Decrease `forecast_horizon` and/or `min_train_periods`. Using default 90/10 CV split\n",
      "\u001b[2m\u001b[36m(pid=46028)\u001b[0m \n",
      "\u001b[2m\u001b[36m(pid=46029)\u001b[0m /Users/cgreer/miniconda3/envs/koch2/lib/python3.8/site-packages/greykite/sklearn/cross_validation.py:191: UserWarning:\n",
      "\u001b[2m\u001b[36m(pid=46029)\u001b[0m \n",
      "\u001b[2m\u001b[36m(pid=46029)\u001b[0m There are no CV splits under the requested settings. Decrease `forecast_horizon` and/or `min_train_periods`. Using default 90/10 CV split\n",
      "\u001b[2m\u001b[36m(pid=46029)\u001b[0m \n",
      "\u001b[2m\u001b[36m(pid=46026)\u001b[0m /Users/cgreer/miniconda3/envs/koch2/lib/python3.8/site-packages/greykite/sklearn/cross_validation.py:191: UserWarning:\n",
      "\u001b[2m\u001b[36m(pid=46026)\u001b[0m \n",
      "\u001b[2m\u001b[36m(pid=46026)\u001b[0m There are no CV splits under the requested settings. Decrease `forecast_horizon` and/or `min_train_periods`. Using default 90/10 CV split\n",
      "\u001b[2m\u001b[36m(pid=46026)\u001b[0m \n"
     ]
    },
    {
     "name": "stdout",
     "output_type": "stream",
     "text": [
      "\u001b[2m\u001b[36m(grey pid=46022)\u001b[0m Fitting 1 folds for each of 1 candidates, totalling 1 fits\n",
      "\u001b[2m\u001b[36m(grey pid=46028)\u001b[0m Fitting 1 folds for each of 1 candidates, totalling 1 fits\n",
      "\u001b[2m\u001b[36m(grey pid=46026)\u001b[0m Fitting 1 folds for each of 1 candidates, totalling 1 fits\n",
      "\u001b[2m\u001b[36m(grey pid=46029)\u001b[0m Fitting 1 folds for each of 1 candidates, totalling 1 fits\n"
     ]
    },
    {
     "name": "stderr",
     "output_type": "stream",
     "text": [
      "\u001b[2m\u001b[36m(pid=46022)\u001b[0m /Users/cgreer/miniconda3/envs/koch2/lib/python3.8/site-packages/greykite/algo/forecast/silverkite/forecast_simple_silverkite_helper.py:129: UserWarning:\n",
      "\u001b[2m\u001b[36m(pid=46022)\u001b[0m \n",
      "\u001b[2m\u001b[36m(pid=46022)\u001b[0m Requested holiday 'Easter Monday [England, Wales, Northern Ireland]' does not occur in the provided countries\n",
      "\u001b[2m\u001b[36m(pid=46022)\u001b[0m \n",
      "\u001b[2m\u001b[36m(pid=46028)\u001b[0m /Users/cgreer/miniconda3/envs/koch2/lib/python3.8/site-packages/greykite/algo/forecast/silverkite/forecast_simple_silverkite_helper.py:129: UserWarning:\n",
      "\u001b[2m\u001b[36m(pid=46028)\u001b[0m \n",
      "\u001b[2m\u001b[36m(pid=46028)\u001b[0m Requested holiday 'Easter Monday [England, Wales, Northern Ireland]' does not occur in the provided countries\n",
      "\u001b[2m\u001b[36m(pid=46028)\u001b[0m \n",
      "\u001b[2m\u001b[36m(pid=46029)\u001b[0m /Users/cgreer/miniconda3/envs/koch2/lib/python3.8/site-packages/greykite/algo/forecast/silverkite/forecast_simple_silverkite_helper.py:129: UserWarning:\n",
      "\u001b[2m\u001b[36m(pid=46029)\u001b[0m \n",
      "\u001b[2m\u001b[36m(pid=46029)\u001b[0m Requested holiday 'Easter Monday [England, Wales, Northern Ireland]' does not occur in the provided countries\n",
      "\u001b[2m\u001b[36m(pid=46029)\u001b[0m \n",
      "\u001b[2m\u001b[36m(pid=46026)\u001b[0m /Users/cgreer/miniconda3/envs/koch2/lib/python3.8/site-packages/greykite/algo/forecast/silverkite/forecast_simple_silverkite_helper.py:129: UserWarning:\n",
      "\u001b[2m\u001b[36m(pid=46026)\u001b[0m \n",
      "\u001b[2m\u001b[36m(pid=46026)\u001b[0m Requested holiday 'Easter Monday [England, Wales, Northern Ireland]' does not occur in the provided countries\n",
      "\u001b[2m\u001b[36m(pid=46026)\u001b[0m \n",
      "\u001b[2m\u001b[36m(pid=46036)\u001b[0m /Users/cgreer/miniconda3/envs/koch2/lib/python3.8/site-packages/greykite/framework/pipeline/pipeline.py:200: UserWarning:\n",
      "\u001b[2m\u001b[36m(pid=46036)\u001b[0m \n",
      "\u001b[2m\u001b[36m(pid=46036)\u001b[0m test_horizon should be <= than 1/3 of the data set size to allow enough data to train a backtest model. Consider reducing to 278. If this is smaller than the forecast_horizon, you will need to make a trade-off between setting test_horizon=forecast_horizon and having enough data left over to properly train a realistic backtest model.\n",
      "\u001b[2m\u001b[36m(pid=46036)\u001b[0m \n",
      "\u001b[2m\u001b[36m(pid=46036)\u001b[0m /Users/cgreer/miniconda3/envs/koch2/lib/python3.8/site-packages/greykite/sklearn/cross_validation.py:191: UserWarning:\n",
      "\u001b[2m\u001b[36m(pid=46036)\u001b[0m \n",
      "\u001b[2m\u001b[36m(pid=46036)\u001b[0m There are no CV splits under the requested settings. Decrease `forecast_horizon` and/or `min_train_periods`. Using default 90/10 CV split\n",
      "\u001b[2m\u001b[36m(pid=46036)\u001b[0m \n"
     ]
    },
    {
     "name": "stdout",
     "output_type": "stream",
     "text": [
      "\u001b[2m\u001b[36m(grey pid=46036)\u001b[0m Fitting 1 folds for each of 1 candidates, totalling 1 fits\n"
     ]
    },
    {
     "name": "stderr",
     "output_type": "stream",
     "text": [
      "\u001b[2m\u001b[36m(pid=46036)\u001b[0m /Users/cgreer/miniconda3/envs/koch2/lib/python3.8/site-packages/greykite/algo/forecast/silverkite/forecast_simple_silverkite_helper.py:129: UserWarning:\n",
      "\u001b[2m\u001b[36m(pid=46036)\u001b[0m \n",
      "\u001b[2m\u001b[36m(pid=46036)\u001b[0m Requested holiday 'Easter Monday [England, Wales, Northern Ireland]' does not occur in the provided countries\n",
      "\u001b[2m\u001b[36m(pid=46036)\u001b[0m \n"
     ]
    }
   ],
   "source": [
    "import ray\n",
    "import time\n",
    "#ray.init()\n",
    "\n",
    "@ray.remote\n",
    "def grey(df1):\n",
    "  metadata = MetadataParam(\n",
    "     time_col=\"date\",  # name of the time column\n",
    "     value_col=\"demand\",  # name of the value column\n",
    "     freq=\"D\"  #\"MS\" for Montly at start date, \"H\" for hourly, \"D\" for daily, \"W\" for weekly, etc.\n",
    "  )\n",
    "  forecaster = Forecaster()\n",
    "  result = forecaster.run_forecast_config(\n",
    "     df=df1,\n",
    "     config=ForecastConfig(\n",
    "         model_template=ModelTemplateEnum.SILVERKITE.name,\n",
    "         forecast_horizon=365,  # forecasts 100 steps ahead\n",
    "         coverage=0.95,  # 95% prediction intervals\n",
    "         metadata_param=metadata\n",
    "      )\n",
    "  )\n",
    "  return result\n",
    "\n",
    "results=[]\n",
    "for i in data[:5]:\n",
    "    results.append(grey.remote(i))\n",
    "\n",
    "#predictions = ray.get(results)"
   ]
  },
  {
   "cell_type": "code",
   "execution_count": 10,
   "id": "f56868bc",
   "metadata": {},
   "outputs": [
    {
     "ename": "RayTaskError(NotImplementedError)",
     "evalue": "\u001b[36mray::grey()\u001b[39m (pid=46029, ip=192.168.4.54)\n  File \"/Users/cgreer/miniconda3/envs/koch2/lib/python3.8/site-packages/ray/serialization.py\", line 348, in serialize\n    return self._serialize_to_msgpack(value)\n  File \"/Users/cgreer/miniconda3/envs/koch2/lib/python3.8/site-packages/ray/serialization.py\", line 328, in _serialize_to_msgpack\n    self._serialize_to_pickle5(metadata, python_objects)\n  File \"/Users/cgreer/miniconda3/envs/koch2/lib/python3.8/site-packages/ray/serialization.py\", line 288, in _serialize_to_pickle5\n    raise e\n  File \"/Users/cgreer/miniconda3/envs/koch2/lib/python3.8/site-packages/ray/serialization.py\", line 284, in _serialize_to_pickle5\n    inband = pickle.dumps(\n  File \"/Users/cgreer/miniconda3/envs/koch2/lib/python3.8/site-packages/ray/cloudpickle/cloudpickle_fast.py\", line 73, in dumps\n    cp.dump(obj)\n  File \"/Users/cgreer/miniconda3/envs/koch2/lib/python3.8/site-packages/ray/cloudpickle/cloudpickle_fast.py\", line 580, in dump\n    return Pickler.dump(self, obj)\n  File \"/Users/cgreer/miniconda3/envs/koch2/lib/python3.8/site-packages/patsy/util.py\", line 723, in no_pickling\n    raise NotImplementedError(\nNotImplementedError: Sorry, pickling not yet supported. See https://github.com/pydata/patsy/issues/26 if you want to help.",
     "output_type": "error",
     "traceback": [
      "\u001b[0;31m---------------------------------------------------------------------------\u001b[0m",
      "\u001b[0;31mRayTaskError(NotImplementedError)\u001b[0m         Traceback (most recent call last)",
      "\u001b[0;32m/var/folders/mj/p0np0hkx0gj2h_bg219790xw0000gn/T/ipykernel_45964/483942760.py\u001b[0m in \u001b[0;36m<module>\u001b[0;34m\u001b[0m\n\u001b[0;32m----> 1\u001b[0;31m \u001b[0mray\u001b[0m\u001b[0;34m.\u001b[0m\u001b[0mget\u001b[0m\u001b[0;34m(\u001b[0m\u001b[0mresults\u001b[0m\u001b[0;34m[\u001b[0m\u001b[0;36m1\u001b[0m\u001b[0;34m]\u001b[0m\u001b[0;34m)\u001b[0m\u001b[0;34m\u001b[0m\u001b[0;34m\u001b[0m\u001b[0m\n\u001b[0m",
      "\u001b[0;32m~/miniconda3/envs/koch2/lib/python3.8/site-packages/ray/_private/client_mode_hook.py\u001b[0m in \u001b[0;36mwrapper\u001b[0;34m(*args, **kwargs)\u001b[0m\n\u001b[1;32m     87\u001b[0m             \u001b[0;32mif\u001b[0m \u001b[0mfunc\u001b[0m\u001b[0;34m.\u001b[0m\u001b[0m__name__\u001b[0m \u001b[0;34m!=\u001b[0m \u001b[0;34m\"init\"\u001b[0m \u001b[0;32mor\u001b[0m \u001b[0mis_client_mode_enabled_by_default\u001b[0m\u001b[0;34m:\u001b[0m\u001b[0;34m\u001b[0m\u001b[0;34m\u001b[0m\u001b[0m\n\u001b[1;32m     88\u001b[0m                 \u001b[0;32mreturn\u001b[0m \u001b[0mgetattr\u001b[0m\u001b[0;34m(\u001b[0m\u001b[0mray\u001b[0m\u001b[0;34m,\u001b[0m \u001b[0mfunc\u001b[0m\u001b[0;34m.\u001b[0m\u001b[0m__name__\u001b[0m\u001b[0;34m)\u001b[0m\u001b[0;34m(\u001b[0m\u001b[0;34m*\u001b[0m\u001b[0margs\u001b[0m\u001b[0;34m,\u001b[0m \u001b[0;34m**\u001b[0m\u001b[0mkwargs\u001b[0m\u001b[0;34m)\u001b[0m\u001b[0;34m\u001b[0m\u001b[0;34m\u001b[0m\u001b[0m\n\u001b[0;32m---> 89\u001b[0;31m         \u001b[0;32mreturn\u001b[0m \u001b[0mfunc\u001b[0m\u001b[0;34m(\u001b[0m\u001b[0;34m*\u001b[0m\u001b[0margs\u001b[0m\u001b[0;34m,\u001b[0m \u001b[0;34m**\u001b[0m\u001b[0mkwargs\u001b[0m\u001b[0;34m)\u001b[0m\u001b[0;34m\u001b[0m\u001b[0;34m\u001b[0m\u001b[0m\n\u001b[0m\u001b[1;32m     90\u001b[0m \u001b[0;34m\u001b[0m\u001b[0m\n\u001b[1;32m     91\u001b[0m     \u001b[0;32mreturn\u001b[0m \u001b[0mwrapper\u001b[0m\u001b[0;34m\u001b[0m\u001b[0;34m\u001b[0m\u001b[0m\n",
      "\u001b[0;32m~/miniconda3/envs/koch2/lib/python3.8/site-packages/ray/worker.py\u001b[0m in \u001b[0;36mget\u001b[0;34m(object_refs, timeout)\u001b[0m\n\u001b[1;32m   1619\u001b[0m                     \u001b[0mworker\u001b[0m\u001b[0;34m.\u001b[0m\u001b[0mcore_worker\u001b[0m\u001b[0;34m.\u001b[0m\u001b[0mdump_object_store_memory_usage\u001b[0m\u001b[0;34m(\u001b[0m\u001b[0;34m)\u001b[0m\u001b[0;34m\u001b[0m\u001b[0;34m\u001b[0m\u001b[0m\n\u001b[1;32m   1620\u001b[0m                 \u001b[0;32mif\u001b[0m \u001b[0misinstance\u001b[0m\u001b[0;34m(\u001b[0m\u001b[0mvalue\u001b[0m\u001b[0;34m,\u001b[0m \u001b[0mRayTaskError\u001b[0m\u001b[0;34m)\u001b[0m\u001b[0;34m:\u001b[0m\u001b[0;34m\u001b[0m\u001b[0;34m\u001b[0m\u001b[0m\n\u001b[0;32m-> 1621\u001b[0;31m                     \u001b[0;32mraise\u001b[0m \u001b[0mvalue\u001b[0m\u001b[0;34m.\u001b[0m\u001b[0mas_instanceof_cause\u001b[0m\u001b[0;34m(\u001b[0m\u001b[0;34m)\u001b[0m\u001b[0;34m\u001b[0m\u001b[0;34m\u001b[0m\u001b[0m\n\u001b[0m\u001b[1;32m   1622\u001b[0m                 \u001b[0;32melse\u001b[0m\u001b[0;34m:\u001b[0m\u001b[0;34m\u001b[0m\u001b[0;34m\u001b[0m\u001b[0m\n\u001b[1;32m   1623\u001b[0m                     \u001b[0;32mraise\u001b[0m \u001b[0mvalue\u001b[0m\u001b[0;34m\u001b[0m\u001b[0;34m\u001b[0m\u001b[0m\n",
      "\u001b[0;31mRayTaskError(NotImplementedError)\u001b[0m: \u001b[36mray::grey()\u001b[39m (pid=46029, ip=192.168.4.54)\n  File \"/Users/cgreer/miniconda3/envs/koch2/lib/python3.8/site-packages/ray/serialization.py\", line 348, in serialize\n    return self._serialize_to_msgpack(value)\n  File \"/Users/cgreer/miniconda3/envs/koch2/lib/python3.8/site-packages/ray/serialization.py\", line 328, in _serialize_to_msgpack\n    self._serialize_to_pickle5(metadata, python_objects)\n  File \"/Users/cgreer/miniconda3/envs/koch2/lib/python3.8/site-packages/ray/serialization.py\", line 288, in _serialize_to_pickle5\n    raise e\n  File \"/Users/cgreer/miniconda3/envs/koch2/lib/python3.8/site-packages/ray/serialization.py\", line 284, in _serialize_to_pickle5\n    inband = pickle.dumps(\n  File \"/Users/cgreer/miniconda3/envs/koch2/lib/python3.8/site-packages/ray/cloudpickle/cloudpickle_fast.py\", line 73, in dumps\n    cp.dump(obj)\n  File \"/Users/cgreer/miniconda3/envs/koch2/lib/python3.8/site-packages/ray/cloudpickle/cloudpickle_fast.py\", line 580, in dump\n    return Pickler.dump(self, obj)\n  File \"/Users/cgreer/miniconda3/envs/koch2/lib/python3.8/site-packages/patsy/util.py\", line 723, in no_pickling\n    raise NotImplementedError(\nNotImplementedError: Sorry, pickling not yet supported. See https://github.com/pydata/patsy/issues/26 if you want to help."
     ]
    }
   ],
   "source": [
    "ray.get(results[1])"
   ]
  },
  {
   "cell_type": "code",
   "execution_count": 8,
   "id": "1d103d94",
   "metadata": {},
   "outputs": [
    {
     "name": "stderr",
     "output_type": "stream",
     "text": [
      "\u001b[2m\u001b[36m(pid=46022)\u001b[0m /Users/cgreer/miniconda3/envs/koch2/lib/python3.8/site-packages/greykite/common/evaluation.py:316: UserWarning:\n",
      "\u001b[2m\u001b[36m(pid=46022)\u001b[0m \n",
      "\u001b[2m\u001b[36m(pid=46022)\u001b[0m y_true contains 0. MAPE is undefined.\n",
      "\u001b[2m\u001b[36m(pid=46022)\u001b[0m \n",
      "\u001b[2m\u001b[36m(pid=46022)\u001b[0m /Users/cgreer/miniconda3/envs/koch2/lib/python3.8/site-packages/greykite/common/evaluation.py:333: UserWarning:\n",
      "\u001b[2m\u001b[36m(pid=46022)\u001b[0m \n",
      "\u001b[2m\u001b[36m(pid=46022)\u001b[0m y_true contains 0. MedAPE is undefined.\n",
      "\u001b[2m\u001b[36m(pid=46022)\u001b[0m \n",
      "\u001b[2m\u001b[36m(pid=46022)\u001b[0m /Users/cgreer/miniconda3/envs/koch2/lib/python3.8/site-packages/greykite/sklearn/transform/null_transformer.py:177: RuntimeWarning:\n",
      "\u001b[2m\u001b[36m(pid=46022)\u001b[0m \n",
      "\u001b[2m\u001b[36m(pid=46022)\u001b[0m Input data has many null values. Missing 30.44% of one input.\n",
      "\u001b[2m\u001b[36m(pid=46022)\u001b[0m \n",
      "\u001b[2m\u001b[36m(pid=46028)\u001b[0m /Users/cgreer/miniconda3/envs/koch2/lib/python3.8/site-packages/greykite/common/evaluation.py:316: UserWarning:\n",
      "\u001b[2m\u001b[36m(pid=46028)\u001b[0m \n",
      "\u001b[2m\u001b[36m(pid=46028)\u001b[0m y_true contains 0. MAPE is undefined.\n",
      "\u001b[2m\u001b[36m(pid=46028)\u001b[0m \n",
      "\u001b[2m\u001b[36m(pid=46028)\u001b[0m /Users/cgreer/miniconda3/envs/koch2/lib/python3.8/site-packages/greykite/common/evaluation.py:333: UserWarning:\n",
      "\u001b[2m\u001b[36m(pid=46028)\u001b[0m \n",
      "\u001b[2m\u001b[36m(pid=46028)\u001b[0m y_true contains 0. MedAPE is undefined.\n",
      "\u001b[2m\u001b[36m(pid=46028)\u001b[0m \n",
      "\u001b[2m\u001b[36m(pid=46028)\u001b[0m /Users/cgreer/miniconda3/envs/koch2/lib/python3.8/site-packages/greykite/sklearn/transform/null_transformer.py:177: RuntimeWarning:\n",
      "\u001b[2m\u001b[36m(pid=46028)\u001b[0m \n",
      "\u001b[2m\u001b[36m(pid=46028)\u001b[0m Input data has many null values. Missing 30.44% of one input.\n",
      "\u001b[2m\u001b[36m(pid=46028)\u001b[0m \n",
      "\u001b[2m\u001b[36m(pid=46026)\u001b[0m /Users/cgreer/miniconda3/envs/koch2/lib/python3.8/site-packages/greykite/common/evaluation.py:316: UserWarning:\n",
      "\u001b[2m\u001b[36m(pid=46026)\u001b[0m \n",
      "\u001b[2m\u001b[36m(pid=46026)\u001b[0m y_true contains 0. MAPE is undefined.\n",
      "\u001b[2m\u001b[36m(pid=46026)\u001b[0m \n",
      "\u001b[2m\u001b[36m(pid=46026)\u001b[0m /Users/cgreer/miniconda3/envs/koch2/lib/python3.8/site-packages/greykite/common/evaluation.py:333: UserWarning:\n",
      "\u001b[2m\u001b[36m(pid=46026)\u001b[0m \n",
      "\u001b[2m\u001b[36m(pid=46026)\u001b[0m y_true contains 0. MedAPE is undefined.\n",
      "\u001b[2m\u001b[36m(pid=46026)\u001b[0m \n",
      "\u001b[2m\u001b[36m(pid=46026)\u001b[0m /Users/cgreer/miniconda3/envs/koch2/lib/python3.8/site-packages/greykite/sklearn/transform/null_transformer.py:177: RuntimeWarning:\n",
      "\u001b[2m\u001b[36m(pid=46026)\u001b[0m \n",
      "\u001b[2m\u001b[36m(pid=46026)\u001b[0m Input data has many null values. Missing 30.44% of one input.\n",
      "\u001b[2m\u001b[36m(pid=46026)\u001b[0m \n",
      "\u001b[2m\u001b[36m(pid=46029)\u001b[0m /Users/cgreer/miniconda3/envs/koch2/lib/python3.8/site-packages/greykite/common/evaluation.py:316: UserWarning:\n",
      "\u001b[2m\u001b[36m(pid=46029)\u001b[0m \n",
      "\u001b[2m\u001b[36m(pid=46029)\u001b[0m y_true contains 0. MAPE is undefined.\n",
      "\u001b[2m\u001b[36m(pid=46029)\u001b[0m \n",
      "\u001b[2m\u001b[36m(pid=46029)\u001b[0m /Users/cgreer/miniconda3/envs/koch2/lib/python3.8/site-packages/greykite/common/evaluation.py:333: UserWarning:\n",
      "\u001b[2m\u001b[36m(pid=46029)\u001b[0m \n",
      "\u001b[2m\u001b[36m(pid=46029)\u001b[0m y_true contains 0. MedAPE is undefined.\n",
      "\u001b[2m\u001b[36m(pid=46029)\u001b[0m \n",
      "\u001b[2m\u001b[36m(pid=46029)\u001b[0m /Users/cgreer/miniconda3/envs/koch2/lib/python3.8/site-packages/greykite/sklearn/transform/null_transformer.py:177: RuntimeWarning:\n",
      "\u001b[2m\u001b[36m(pid=46029)\u001b[0m \n",
      "\u001b[2m\u001b[36m(pid=46029)\u001b[0m Input data has many null values. Missing 30.44% of one input.\n",
      "\u001b[2m\u001b[36m(pid=46029)\u001b[0m \n",
      "\u001b[2m\u001b[36m(pid=46036)\u001b[0m /Users/cgreer/miniconda3/envs/koch2/lib/python3.8/site-packages/greykite/common/evaluation.py:316: UserWarning:\n",
      "\u001b[2m\u001b[36m(pid=46036)\u001b[0m \n",
      "\u001b[2m\u001b[36m(pid=46036)\u001b[0m y_true contains 0. MAPE is undefined.\n",
      "\u001b[2m\u001b[36m(pid=46036)\u001b[0m \n",
      "\u001b[2m\u001b[36m(pid=46036)\u001b[0m /Users/cgreer/miniconda3/envs/koch2/lib/python3.8/site-packages/greykite/common/evaluation.py:333: UserWarning:\n",
      "\u001b[2m\u001b[36m(pid=46036)\u001b[0m \n",
      "\u001b[2m\u001b[36m(pid=46036)\u001b[0m y_true contains 0. MedAPE is undefined.\n",
      "\u001b[2m\u001b[36m(pid=46036)\u001b[0m \n",
      "\u001b[2m\u001b[36m(pid=46036)\u001b[0m /Users/cgreer/miniconda3/envs/koch2/lib/python3.8/site-packages/greykite/sklearn/transform/null_transformer.py:177: RuntimeWarning:\n",
      "\u001b[2m\u001b[36m(pid=46036)\u001b[0m \n",
      "\u001b[2m\u001b[36m(pid=46036)\u001b[0m Input data has many null values. Missing 30.44% of one input.\n",
      "\u001b[2m\u001b[36m(pid=46036)\u001b[0m \n",
      "\u001b[2m\u001b[36m(pid=46022)\u001b[0m /Users/cgreer/miniconda3/envs/koch2/lib/python3.8/site-packages/greykite/common/evaluation.py:316: UserWarning:\n",
      "\u001b[2m\u001b[36m(pid=46022)\u001b[0m \n",
      "\u001b[2m\u001b[36m(pid=46022)\u001b[0m y_true contains 0. MAPE is undefined.\n",
      "\u001b[2m\u001b[36m(pid=46022)\u001b[0m \n",
      "\u001b[2m\u001b[36m(pid=46022)\u001b[0m /Users/cgreer/miniconda3/envs/koch2/lib/python3.8/site-packages/greykite/common/evaluation.py:333: UserWarning:\n",
      "\u001b[2m\u001b[36m(pid=46022)\u001b[0m \n",
      "\u001b[2m\u001b[36m(pid=46022)\u001b[0m y_true contains 0. MedAPE is undefined.\n",
      "\u001b[2m\u001b[36m(pid=46022)\u001b[0m \n",
      "\u001b[2m\u001b[36m(pid=46028)\u001b[0m /Users/cgreer/miniconda3/envs/koch2/lib/python3.8/site-packages/greykite/common/evaluation.py:316: UserWarning:\n",
      "\u001b[2m\u001b[36m(pid=46028)\u001b[0m \n",
      "\u001b[2m\u001b[36m(pid=46028)\u001b[0m y_true contains 0. MAPE is undefined.\n",
      "\u001b[2m\u001b[36m(pid=46028)\u001b[0m \n",
      "\u001b[2m\u001b[36m(pid=46028)\u001b[0m /Users/cgreer/miniconda3/envs/koch2/lib/python3.8/site-packages/greykite/common/evaluation.py:333: UserWarning:\n",
      "\u001b[2m\u001b[36m(pid=46028)\u001b[0m \n",
      "\u001b[2m\u001b[36m(pid=46028)\u001b[0m y_true contains 0. MedAPE is undefined.\n",
      "\u001b[2m\u001b[36m(pid=46028)\u001b[0m \n",
      "\u001b[2m\u001b[36m(pid=46026)\u001b[0m /Users/cgreer/miniconda3/envs/koch2/lib/python3.8/site-packages/greykite/common/evaluation.py:316: UserWarning:\n",
      "\u001b[2m\u001b[36m(pid=46026)\u001b[0m \n",
      "\u001b[2m\u001b[36m(pid=46026)\u001b[0m y_true contains 0. MAPE is undefined.\n",
      "\u001b[2m\u001b[36m(pid=46026)\u001b[0m \n",
      "\u001b[2m\u001b[36m(pid=46026)\u001b[0m /Users/cgreer/miniconda3/envs/koch2/lib/python3.8/site-packages/greykite/common/evaluation.py:333: UserWarning:\n",
      "\u001b[2m\u001b[36m(pid=46026)\u001b[0m \n",
      "\u001b[2m\u001b[36m(pid=46026)\u001b[0m y_true contains 0. MedAPE is undefined.\n",
      "\u001b[2m\u001b[36m(pid=46026)\u001b[0m \n",
      "\u001b[2m\u001b[36m(pid=46029)\u001b[0m /Users/cgreer/miniconda3/envs/koch2/lib/python3.8/site-packages/greykite/common/evaluation.py:316: UserWarning:\n",
      "\u001b[2m\u001b[36m(pid=46029)\u001b[0m \n",
      "\u001b[2m\u001b[36m(pid=46029)\u001b[0m y_true contains 0. MAPE is undefined.\n",
      "\u001b[2m\u001b[36m(pid=46029)\u001b[0m \n",
      "\u001b[2m\u001b[36m(pid=46029)\u001b[0m /Users/cgreer/miniconda3/envs/koch2/lib/python3.8/site-packages/greykite/common/evaluation.py:333: UserWarning:\n",
      "\u001b[2m\u001b[36m(pid=46029)\u001b[0m \n",
      "\u001b[2m\u001b[36m(pid=46029)\u001b[0m y_true contains 0. MedAPE is undefined.\n",
      "\u001b[2m\u001b[36m(pid=46029)\u001b[0m \n"
     ]
    },
    {
     "ename": "RayTaskError(NotImplementedError)",
     "evalue": "\u001b[36mray::grey()\u001b[39m (pid=46022, ip=192.168.4.54)\n  File \"/Users/cgreer/miniconda3/envs/koch2/lib/python3.8/site-packages/ray/serialization.py\", line 348, in serialize\n    return self._serialize_to_msgpack(value)\n  File \"/Users/cgreer/miniconda3/envs/koch2/lib/python3.8/site-packages/ray/serialization.py\", line 328, in _serialize_to_msgpack\n    self._serialize_to_pickle5(metadata, python_objects)\n  File \"/Users/cgreer/miniconda3/envs/koch2/lib/python3.8/site-packages/ray/serialization.py\", line 288, in _serialize_to_pickle5\n    raise e\n  File \"/Users/cgreer/miniconda3/envs/koch2/lib/python3.8/site-packages/ray/serialization.py\", line 284, in _serialize_to_pickle5\n    inband = pickle.dumps(\n  File \"/Users/cgreer/miniconda3/envs/koch2/lib/python3.8/site-packages/ray/cloudpickle/cloudpickle_fast.py\", line 73, in dumps\n    cp.dump(obj)\n  File \"/Users/cgreer/miniconda3/envs/koch2/lib/python3.8/site-packages/ray/cloudpickle/cloudpickle_fast.py\", line 580, in dump\n    return Pickler.dump(self, obj)\n  File \"/Users/cgreer/miniconda3/envs/koch2/lib/python3.8/site-packages/patsy/util.py\", line 723, in no_pickling\n    raise NotImplementedError(\nNotImplementedError: Sorry, pickling not yet supported. See https://github.com/pydata/patsy/issues/26 if you want to help.",
     "output_type": "error",
     "traceback": [
      "\u001b[0;31m---------------------------------------------------------------------------\u001b[0m",
      "\u001b[0;31mRayTaskError(NotImplementedError)\u001b[0m         Traceback (most recent call last)",
      "\u001b[0;32m/var/folders/mj/p0np0hkx0gj2h_bg219790xw0000gn/T/ipykernel_45964/3949260422.py\u001b[0m in \u001b[0;36m<module>\u001b[0;34m\u001b[0m\n\u001b[0;32m----> 1\u001b[0;31m \u001b[0mpredictions\u001b[0m \u001b[0;34m=\u001b[0m \u001b[0mray\u001b[0m\u001b[0;34m.\u001b[0m\u001b[0mget\u001b[0m\u001b[0;34m(\u001b[0m\u001b[0mresults\u001b[0m\u001b[0;34m)\u001b[0m\u001b[0;34m\u001b[0m\u001b[0;34m\u001b[0m\u001b[0m\n\u001b[0m",
      "\u001b[0;32m~/miniconda3/envs/koch2/lib/python3.8/site-packages/ray/_private/client_mode_hook.py\u001b[0m in \u001b[0;36mwrapper\u001b[0;34m(*args, **kwargs)\u001b[0m\n\u001b[1;32m     87\u001b[0m             \u001b[0;32mif\u001b[0m \u001b[0mfunc\u001b[0m\u001b[0;34m.\u001b[0m\u001b[0m__name__\u001b[0m \u001b[0;34m!=\u001b[0m \u001b[0;34m\"init\"\u001b[0m \u001b[0;32mor\u001b[0m \u001b[0mis_client_mode_enabled_by_default\u001b[0m\u001b[0;34m:\u001b[0m\u001b[0;34m\u001b[0m\u001b[0;34m\u001b[0m\u001b[0m\n\u001b[1;32m     88\u001b[0m                 \u001b[0;32mreturn\u001b[0m \u001b[0mgetattr\u001b[0m\u001b[0;34m(\u001b[0m\u001b[0mray\u001b[0m\u001b[0;34m,\u001b[0m \u001b[0mfunc\u001b[0m\u001b[0;34m.\u001b[0m\u001b[0m__name__\u001b[0m\u001b[0;34m)\u001b[0m\u001b[0;34m(\u001b[0m\u001b[0;34m*\u001b[0m\u001b[0margs\u001b[0m\u001b[0;34m,\u001b[0m \u001b[0;34m**\u001b[0m\u001b[0mkwargs\u001b[0m\u001b[0;34m)\u001b[0m\u001b[0;34m\u001b[0m\u001b[0;34m\u001b[0m\u001b[0m\n\u001b[0;32m---> 89\u001b[0;31m         \u001b[0;32mreturn\u001b[0m \u001b[0mfunc\u001b[0m\u001b[0;34m(\u001b[0m\u001b[0;34m*\u001b[0m\u001b[0margs\u001b[0m\u001b[0;34m,\u001b[0m \u001b[0;34m**\u001b[0m\u001b[0mkwargs\u001b[0m\u001b[0;34m)\u001b[0m\u001b[0;34m\u001b[0m\u001b[0;34m\u001b[0m\u001b[0m\n\u001b[0m\u001b[1;32m     90\u001b[0m \u001b[0;34m\u001b[0m\u001b[0m\n\u001b[1;32m     91\u001b[0m     \u001b[0;32mreturn\u001b[0m \u001b[0mwrapper\u001b[0m\u001b[0;34m\u001b[0m\u001b[0;34m\u001b[0m\u001b[0m\n",
      "\u001b[0;32m~/miniconda3/envs/koch2/lib/python3.8/site-packages/ray/worker.py\u001b[0m in \u001b[0;36mget\u001b[0;34m(object_refs, timeout)\u001b[0m\n\u001b[1;32m   1619\u001b[0m                     \u001b[0mworker\u001b[0m\u001b[0;34m.\u001b[0m\u001b[0mcore_worker\u001b[0m\u001b[0;34m.\u001b[0m\u001b[0mdump_object_store_memory_usage\u001b[0m\u001b[0;34m(\u001b[0m\u001b[0;34m)\u001b[0m\u001b[0;34m\u001b[0m\u001b[0;34m\u001b[0m\u001b[0m\n\u001b[1;32m   1620\u001b[0m                 \u001b[0;32mif\u001b[0m \u001b[0misinstance\u001b[0m\u001b[0;34m(\u001b[0m\u001b[0mvalue\u001b[0m\u001b[0;34m,\u001b[0m \u001b[0mRayTaskError\u001b[0m\u001b[0;34m)\u001b[0m\u001b[0;34m:\u001b[0m\u001b[0;34m\u001b[0m\u001b[0;34m\u001b[0m\u001b[0m\n\u001b[0;32m-> 1621\u001b[0;31m                     \u001b[0;32mraise\u001b[0m \u001b[0mvalue\u001b[0m\u001b[0;34m.\u001b[0m\u001b[0mas_instanceof_cause\u001b[0m\u001b[0;34m(\u001b[0m\u001b[0;34m)\u001b[0m\u001b[0;34m\u001b[0m\u001b[0;34m\u001b[0m\u001b[0m\n\u001b[0m\u001b[1;32m   1622\u001b[0m                 \u001b[0;32melse\u001b[0m\u001b[0;34m:\u001b[0m\u001b[0;34m\u001b[0m\u001b[0;34m\u001b[0m\u001b[0m\n\u001b[1;32m   1623\u001b[0m                     \u001b[0;32mraise\u001b[0m \u001b[0mvalue\u001b[0m\u001b[0;34m\u001b[0m\u001b[0;34m\u001b[0m\u001b[0m\n",
      "\u001b[0;31mRayTaskError(NotImplementedError)\u001b[0m: \u001b[36mray::grey()\u001b[39m (pid=46022, ip=192.168.4.54)\n  File \"/Users/cgreer/miniconda3/envs/koch2/lib/python3.8/site-packages/ray/serialization.py\", line 348, in serialize\n    return self._serialize_to_msgpack(value)\n  File \"/Users/cgreer/miniconda3/envs/koch2/lib/python3.8/site-packages/ray/serialization.py\", line 328, in _serialize_to_msgpack\n    self._serialize_to_pickle5(metadata, python_objects)\n  File \"/Users/cgreer/miniconda3/envs/koch2/lib/python3.8/site-packages/ray/serialization.py\", line 288, in _serialize_to_pickle5\n    raise e\n  File \"/Users/cgreer/miniconda3/envs/koch2/lib/python3.8/site-packages/ray/serialization.py\", line 284, in _serialize_to_pickle5\n    inband = pickle.dumps(\n  File \"/Users/cgreer/miniconda3/envs/koch2/lib/python3.8/site-packages/ray/cloudpickle/cloudpickle_fast.py\", line 73, in dumps\n    cp.dump(obj)\n  File \"/Users/cgreer/miniconda3/envs/koch2/lib/python3.8/site-packages/ray/cloudpickle/cloudpickle_fast.py\", line 580, in dump\n    return Pickler.dump(self, obj)\n  File \"/Users/cgreer/miniconda3/envs/koch2/lib/python3.8/site-packages/patsy/util.py\", line 723, in no_pickling\n    raise NotImplementedError(\nNotImplementedError: Sorry, pickling not yet supported. See https://github.com/pydata/patsy/issues/26 if you want to help."
     ]
    },
    {
     "name": "stderr",
     "output_type": "stream",
     "text": [
      "\u001b[2m\u001b[36m(pid=46036)\u001b[0m /Users/cgreer/miniconda3/envs/koch2/lib/python3.8/site-packages/greykite/common/evaluation.py:316: UserWarning:\n",
      "\u001b[2m\u001b[36m(pid=46036)\u001b[0m \n",
      "\u001b[2m\u001b[36m(pid=46036)\u001b[0m y_true contains 0. MAPE is undefined.\n",
      "\u001b[2m\u001b[36m(pid=46036)\u001b[0m \n",
      "\u001b[2m\u001b[36m(pid=46036)\u001b[0m /Users/cgreer/miniconda3/envs/koch2/lib/python3.8/site-packages/greykite/common/evaluation.py:333: UserWarning:\n",
      "\u001b[2m\u001b[36m(pid=46036)\u001b[0m \n",
      "\u001b[2m\u001b[36m(pid=46036)\u001b[0m y_true contains 0. MedAPE is undefined.\n",
      "\u001b[2m\u001b[36m(pid=46036)\u001b[0m \n",
      "2021-10-25 09:16:34,756\tERROR worker.py:79 -- Unhandled error (suppress with RAY_IGNORE_UNHANDLED_ERRORS=1): \u001b[36mray::grey()\u001b[39m (pid=46028, ip=192.168.4.54)\n",
      "  File \"/Users/cgreer/miniconda3/envs/koch2/lib/python3.8/site-packages/ray/serialization.py\", line 348, in serialize\n",
      "    return self._serialize_to_msgpack(value)\n",
      "  File \"/Users/cgreer/miniconda3/envs/koch2/lib/python3.8/site-packages/ray/serialization.py\", line 328, in _serialize_to_msgpack\n",
      "    self._serialize_to_pickle5(metadata, python_objects)\n",
      "  File \"/Users/cgreer/miniconda3/envs/koch2/lib/python3.8/site-packages/ray/serialization.py\", line 288, in _serialize_to_pickle5\n",
      "    raise e\n",
      "  File \"/Users/cgreer/miniconda3/envs/koch2/lib/python3.8/site-packages/ray/serialization.py\", line 284, in _serialize_to_pickle5\n",
      "    inband = pickle.dumps(\n",
      "  File \"/Users/cgreer/miniconda3/envs/koch2/lib/python3.8/site-packages/ray/cloudpickle/cloudpickle_fast.py\", line 73, in dumps\n",
      "    cp.dump(obj)\n",
      "  File \"/Users/cgreer/miniconda3/envs/koch2/lib/python3.8/site-packages/ray/cloudpickle/cloudpickle_fast.py\", line 580, in dump\n",
      "    return Pickler.dump(self, obj)\n",
      "  File \"/Users/cgreer/miniconda3/envs/koch2/lib/python3.8/site-packages/patsy/util.py\", line 723, in no_pickling\n",
      "    raise NotImplementedError(\n",
      "NotImplementedError: Sorry, pickling not yet supported. See https://github.com/pydata/patsy/issues/26 if you want to help.\n",
      "2021-10-25 09:16:34,758\tERROR worker.py:79 -- Unhandled error (suppress with RAY_IGNORE_UNHANDLED_ERRORS=1): \u001b[36mray::grey()\u001b[39m (pid=46029, ip=192.168.4.54)\n",
      "  File \"/Users/cgreer/miniconda3/envs/koch2/lib/python3.8/site-packages/ray/serialization.py\", line 348, in serialize\n",
      "    return self._serialize_to_msgpack(value)\n",
      "  File \"/Users/cgreer/miniconda3/envs/koch2/lib/python3.8/site-packages/ray/serialization.py\", line 328, in _serialize_to_msgpack\n",
      "    self._serialize_to_pickle5(metadata, python_objects)\n",
      "  File \"/Users/cgreer/miniconda3/envs/koch2/lib/python3.8/site-packages/ray/serialization.py\", line 288, in _serialize_to_pickle5\n",
      "    raise e\n",
      "  File \"/Users/cgreer/miniconda3/envs/koch2/lib/python3.8/site-packages/ray/serialization.py\", line 284, in _serialize_to_pickle5\n",
      "    inband = pickle.dumps(\n",
      "  File \"/Users/cgreer/miniconda3/envs/koch2/lib/python3.8/site-packages/ray/cloudpickle/cloudpickle_fast.py\", line 73, in dumps\n",
      "    cp.dump(obj)\n",
      "  File \"/Users/cgreer/miniconda3/envs/koch2/lib/python3.8/site-packages/ray/cloudpickle/cloudpickle_fast.py\", line 580, in dump\n",
      "    return Pickler.dump(self, obj)\n",
      "  File \"/Users/cgreer/miniconda3/envs/koch2/lib/python3.8/site-packages/patsy/util.py\", line 723, in no_pickling\n",
      "    raise NotImplementedError(\n",
      "NotImplementedError: Sorry, pickling not yet supported. See https://github.com/pydata/patsy/issues/26 if you want to help.\n",
      "2021-10-25 09:16:34,759\tERROR worker.py:79 -- Unhandled error (suppress with RAY_IGNORE_UNHANDLED_ERRORS=1): \u001b[36mray::grey()\u001b[39m (pid=46026, ip=192.168.4.54)\n",
      "  File \"/Users/cgreer/miniconda3/envs/koch2/lib/python3.8/site-packages/ray/serialization.py\", line 348, in serialize\n",
      "    return self._serialize_to_msgpack(value)\n",
      "  File \"/Users/cgreer/miniconda3/envs/koch2/lib/python3.8/site-packages/ray/serialization.py\", line 328, in _serialize_to_msgpack\n",
      "    self._serialize_to_pickle5(metadata, python_objects)\n",
      "  File \"/Users/cgreer/miniconda3/envs/koch2/lib/python3.8/site-packages/ray/serialization.py\", line 288, in _serialize_to_pickle5\n",
      "    raise e\n",
      "  File \"/Users/cgreer/miniconda3/envs/koch2/lib/python3.8/site-packages/ray/serialization.py\", line 284, in _serialize_to_pickle5\n",
      "    inband = pickle.dumps(\n",
      "  File \"/Users/cgreer/miniconda3/envs/koch2/lib/python3.8/site-packages/ray/cloudpickle/cloudpickle_fast.py\", line 73, in dumps\n",
      "    cp.dump(obj)\n",
      "  File \"/Users/cgreer/miniconda3/envs/koch2/lib/python3.8/site-packages/ray/cloudpickle/cloudpickle_fast.py\", line 580, in dump\n",
      "    return Pickler.dump(self, obj)\n",
      "  File \"/Users/cgreer/miniconda3/envs/koch2/lib/python3.8/site-packages/patsy/util.py\", line 723, in no_pickling\n",
      "    raise NotImplementedError(\n",
      "NotImplementedError: Sorry, pickling not yet supported. See https://github.com/pydata/patsy/issues/26 if you want to help.\n",
      "2021-10-25 09:16:35,759\tERROR worker.py:79 -- Unhandled error (suppress with RAY_IGNORE_UNHANDLED_ERRORS=1): \u001b[36mray::grey()\u001b[39m (pid=46036, ip=192.168.4.54)\n",
      "  File \"/Users/cgreer/miniconda3/envs/koch2/lib/python3.8/site-packages/ray/serialization.py\", line 348, in serialize\n",
      "    return self._serialize_to_msgpack(value)\n",
      "  File \"/Users/cgreer/miniconda3/envs/koch2/lib/python3.8/site-packages/ray/serialization.py\", line 328, in _serialize_to_msgpack\n",
      "    self._serialize_to_pickle5(metadata, python_objects)\n",
      "  File \"/Users/cgreer/miniconda3/envs/koch2/lib/python3.8/site-packages/ray/serialization.py\", line 288, in _serialize_to_pickle5\n",
      "    raise e\n",
      "  File \"/Users/cgreer/miniconda3/envs/koch2/lib/python3.8/site-packages/ray/serialization.py\", line 284, in _serialize_to_pickle5\n",
      "    inband = pickle.dumps(\n",
      "  File \"/Users/cgreer/miniconda3/envs/koch2/lib/python3.8/site-packages/ray/cloudpickle/cloudpickle_fast.py\", line 73, in dumps\n",
      "    cp.dump(obj)\n",
      "  File \"/Users/cgreer/miniconda3/envs/koch2/lib/python3.8/site-packages/ray/cloudpickle/cloudpickle_fast.py\", line 580, in dump\n",
      "    return Pickler.dump(self, obj)\n",
      "  File \"/Users/cgreer/miniconda3/envs/koch2/lib/python3.8/site-packages/patsy/util.py\", line 723, in no_pickling\n",
      "    raise NotImplementedError(\n",
      "NotImplementedError: Sorry, pickling not yet supported. See https://github.com/pydata/patsy/issues/26 if you want to help.\n"
     ]
    }
   ],
   "source": [
    "predictions = ray.get(results)"
   ]
  },
  {
   "cell_type": "code",
   "execution_count": 11,
   "id": "ce1fcbd2",
   "metadata": {},
   "outputs": [],
   "source": [
    "import dill as pickle"
   ]
  },
  {
   "cell_type": "code",
   "execution_count": 12,
   "id": "e8ac88dd",
   "metadata": {},
   "outputs": [
    {
     "ename": "RayTaskError(NotImplementedError)",
     "evalue": "\u001b[36mray::grey()\u001b[39m (pid=46022, ip=192.168.4.54)\n  File \"/Users/cgreer/miniconda3/envs/koch2/lib/python3.8/site-packages/ray/serialization.py\", line 348, in serialize\n    return self._serialize_to_msgpack(value)\n  File \"/Users/cgreer/miniconda3/envs/koch2/lib/python3.8/site-packages/ray/serialization.py\", line 328, in _serialize_to_msgpack\n    self._serialize_to_pickle5(metadata, python_objects)\n  File \"/Users/cgreer/miniconda3/envs/koch2/lib/python3.8/site-packages/ray/serialization.py\", line 288, in _serialize_to_pickle5\n    raise e\n  File \"/Users/cgreer/miniconda3/envs/koch2/lib/python3.8/site-packages/ray/serialization.py\", line 284, in _serialize_to_pickle5\n    inband = pickle.dumps(\n  File \"/Users/cgreer/miniconda3/envs/koch2/lib/python3.8/site-packages/ray/cloudpickle/cloudpickle_fast.py\", line 73, in dumps\n    cp.dump(obj)\n  File \"/Users/cgreer/miniconda3/envs/koch2/lib/python3.8/site-packages/ray/cloudpickle/cloudpickle_fast.py\", line 580, in dump\n    return Pickler.dump(self, obj)\n  File \"/Users/cgreer/miniconda3/envs/koch2/lib/python3.8/site-packages/patsy/util.py\", line 723, in no_pickling\n    raise NotImplementedError(\nNotImplementedError: Sorry, pickling not yet supported. See https://github.com/pydata/patsy/issues/26 if you want to help.",
     "output_type": "error",
     "traceback": [
      "\u001b[0;31m---------------------------------------------------------------------------\u001b[0m",
      "\u001b[0;31mRayTaskError(NotImplementedError)\u001b[0m         Traceback (most recent call last)",
      "\u001b[0;32m/var/folders/mj/p0np0hkx0gj2h_bg219790xw0000gn/T/ipykernel_45964/3949260422.py\u001b[0m in \u001b[0;36m<module>\u001b[0;34m\u001b[0m\n\u001b[0;32m----> 1\u001b[0;31m \u001b[0mpredictions\u001b[0m \u001b[0;34m=\u001b[0m \u001b[0mray\u001b[0m\u001b[0;34m.\u001b[0m\u001b[0mget\u001b[0m\u001b[0;34m(\u001b[0m\u001b[0mresults\u001b[0m\u001b[0;34m)\u001b[0m\u001b[0;34m\u001b[0m\u001b[0;34m\u001b[0m\u001b[0m\n\u001b[0m",
      "\u001b[0;32m~/miniconda3/envs/koch2/lib/python3.8/site-packages/ray/_private/client_mode_hook.py\u001b[0m in \u001b[0;36mwrapper\u001b[0;34m(*args, **kwargs)\u001b[0m\n\u001b[1;32m     87\u001b[0m             \u001b[0;32mif\u001b[0m \u001b[0mfunc\u001b[0m\u001b[0;34m.\u001b[0m\u001b[0m__name__\u001b[0m \u001b[0;34m!=\u001b[0m \u001b[0;34m\"init\"\u001b[0m \u001b[0;32mor\u001b[0m \u001b[0mis_client_mode_enabled_by_default\u001b[0m\u001b[0;34m:\u001b[0m\u001b[0;34m\u001b[0m\u001b[0;34m\u001b[0m\u001b[0m\n\u001b[1;32m     88\u001b[0m                 \u001b[0;32mreturn\u001b[0m \u001b[0mgetattr\u001b[0m\u001b[0;34m(\u001b[0m\u001b[0mray\u001b[0m\u001b[0;34m,\u001b[0m \u001b[0mfunc\u001b[0m\u001b[0;34m.\u001b[0m\u001b[0m__name__\u001b[0m\u001b[0;34m)\u001b[0m\u001b[0;34m(\u001b[0m\u001b[0;34m*\u001b[0m\u001b[0margs\u001b[0m\u001b[0;34m,\u001b[0m \u001b[0;34m**\u001b[0m\u001b[0mkwargs\u001b[0m\u001b[0;34m)\u001b[0m\u001b[0;34m\u001b[0m\u001b[0;34m\u001b[0m\u001b[0m\n\u001b[0;32m---> 89\u001b[0;31m         \u001b[0;32mreturn\u001b[0m \u001b[0mfunc\u001b[0m\u001b[0;34m(\u001b[0m\u001b[0;34m*\u001b[0m\u001b[0margs\u001b[0m\u001b[0;34m,\u001b[0m \u001b[0;34m**\u001b[0m\u001b[0mkwargs\u001b[0m\u001b[0;34m)\u001b[0m\u001b[0;34m\u001b[0m\u001b[0;34m\u001b[0m\u001b[0m\n\u001b[0m\u001b[1;32m     90\u001b[0m \u001b[0;34m\u001b[0m\u001b[0m\n\u001b[1;32m     91\u001b[0m     \u001b[0;32mreturn\u001b[0m \u001b[0mwrapper\u001b[0m\u001b[0;34m\u001b[0m\u001b[0;34m\u001b[0m\u001b[0m\n",
      "\u001b[0;32m~/miniconda3/envs/koch2/lib/python3.8/site-packages/ray/worker.py\u001b[0m in \u001b[0;36mget\u001b[0;34m(object_refs, timeout)\u001b[0m\n\u001b[1;32m   1619\u001b[0m                     \u001b[0mworker\u001b[0m\u001b[0;34m.\u001b[0m\u001b[0mcore_worker\u001b[0m\u001b[0;34m.\u001b[0m\u001b[0mdump_object_store_memory_usage\u001b[0m\u001b[0;34m(\u001b[0m\u001b[0;34m)\u001b[0m\u001b[0;34m\u001b[0m\u001b[0;34m\u001b[0m\u001b[0m\n\u001b[1;32m   1620\u001b[0m                 \u001b[0;32mif\u001b[0m \u001b[0misinstance\u001b[0m\u001b[0;34m(\u001b[0m\u001b[0mvalue\u001b[0m\u001b[0;34m,\u001b[0m \u001b[0mRayTaskError\u001b[0m\u001b[0;34m)\u001b[0m\u001b[0;34m:\u001b[0m\u001b[0;34m\u001b[0m\u001b[0;34m\u001b[0m\u001b[0m\n\u001b[0;32m-> 1621\u001b[0;31m                     \u001b[0;32mraise\u001b[0m \u001b[0mvalue\u001b[0m\u001b[0;34m.\u001b[0m\u001b[0mas_instanceof_cause\u001b[0m\u001b[0;34m(\u001b[0m\u001b[0;34m)\u001b[0m\u001b[0;34m\u001b[0m\u001b[0;34m\u001b[0m\u001b[0m\n\u001b[0m\u001b[1;32m   1622\u001b[0m                 \u001b[0;32melse\u001b[0m\u001b[0;34m:\u001b[0m\u001b[0;34m\u001b[0m\u001b[0;34m\u001b[0m\u001b[0m\n\u001b[1;32m   1623\u001b[0m                     \u001b[0;32mraise\u001b[0m \u001b[0mvalue\u001b[0m\u001b[0;34m\u001b[0m\u001b[0;34m\u001b[0m\u001b[0m\n",
      "\u001b[0;31mRayTaskError(NotImplementedError)\u001b[0m: \u001b[36mray::grey()\u001b[39m (pid=46022, ip=192.168.4.54)\n  File \"/Users/cgreer/miniconda3/envs/koch2/lib/python3.8/site-packages/ray/serialization.py\", line 348, in serialize\n    return self._serialize_to_msgpack(value)\n  File \"/Users/cgreer/miniconda3/envs/koch2/lib/python3.8/site-packages/ray/serialization.py\", line 328, in _serialize_to_msgpack\n    self._serialize_to_pickle5(metadata, python_objects)\n  File \"/Users/cgreer/miniconda3/envs/koch2/lib/python3.8/site-packages/ray/serialization.py\", line 288, in _serialize_to_pickle5\n    raise e\n  File \"/Users/cgreer/miniconda3/envs/koch2/lib/python3.8/site-packages/ray/serialization.py\", line 284, in _serialize_to_pickle5\n    inband = pickle.dumps(\n  File \"/Users/cgreer/miniconda3/envs/koch2/lib/python3.8/site-packages/ray/cloudpickle/cloudpickle_fast.py\", line 73, in dumps\n    cp.dump(obj)\n  File \"/Users/cgreer/miniconda3/envs/koch2/lib/python3.8/site-packages/ray/cloudpickle/cloudpickle_fast.py\", line 580, in dump\n    return Pickler.dump(self, obj)\n  File \"/Users/cgreer/miniconda3/envs/koch2/lib/python3.8/site-packages/patsy/util.py\", line 723, in no_pickling\n    raise NotImplementedError(\nNotImplementedError: Sorry, pickling not yet supported. See https://github.com/pydata/patsy/issues/26 if you want to help."
     ]
    }
   ],
   "source": [
    "predictions = ray.get(results)"
   ]
  }
 ],
 "metadata": {
  "kernelspec": {
   "display_name": "Python 3 (ipykernel)",
   "language": "python",
   "name": "python3"
  },
  "language_info": {
   "codemirror_mode": {
    "name": "ipython",
    "version": 3
   },
   "file_extension": ".py",
   "mimetype": "text/x-python",
   "name": "python",
   "nbconvert_exporter": "python",
   "pygments_lexer": "ipython3",
   "version": "3.8.12"
  }
 },
 "nbformat": 4,
 "nbformat_minor": 5
}
